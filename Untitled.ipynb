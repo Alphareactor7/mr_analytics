{
 "cells": [
  {
   "cell_type": "code",
   "execution_count": 8,
   "id": "19cd3f6c-836d-4e0c-a9c5-61a957a8f2a6",
   "metadata": {},
   "outputs": [
    {
     "name": "stdout",
     "output_type": "stream",
     "text": [
      "Requirement already satisfied: pandas in /Users/alphareactor/.local/share/virtualenvs/fastapi-X4P4uNK3/lib/python3.11/site-packages (2.2.2)\n",
      "Requirement already satisfied: numpy>=1.23.2 in /Users/alphareactor/.local/share/virtualenvs/fastapi-X4P4uNK3/lib/python3.11/site-packages (from pandas) (1.26.4)\n",
      "Requirement already satisfied: python-dateutil>=2.8.2 in /Users/alphareactor/.local/share/virtualenvs/fastapi-X4P4uNK3/lib/python3.11/site-packages (from pandas) (2.9.0.post0)\n",
      "Requirement already satisfied: pytz>=2020.1 in /Users/alphareactor/.local/share/virtualenvs/fastapi-X4P4uNK3/lib/python3.11/site-packages (from pandas) (2024.1)\n",
      "Requirement already satisfied: tzdata>=2022.7 in /Users/alphareactor/.local/share/virtualenvs/fastapi-X4P4uNK3/lib/python3.11/site-packages (from pandas) (2024.1)\n",
      "Requirement already satisfied: six>=1.5 in /Users/alphareactor/.local/share/virtualenvs/fastapi-X4P4uNK3/lib/python3.11/site-packages (from python-dateutil>=2.8.2->pandas) (1.16.0)\n",
      "Note: you may need to restart the kernel to use updated packages.\n"
     ]
    }
   ],
   "source": [
    "pip install pandas"
   ]
  },
  {
   "cell_type": "code",
   "execution_count": 9,
   "id": "68311086-b456-4070-bf73-7d4ed0086968",
   "metadata": {},
   "outputs": [
    {
     "name": "stdout",
     "output_type": "stream",
     "text": [
      "Processing /Users/alphareactor/Desktop/fastapi\n",
      "  Preparing metadata (setup.py) ... \u001b[?25ldone\n",
      "\u001b[?25hBuilding wheels for collected packages: mr-analytics\n",
      "  Building wheel for mr-analytics (setup.py) ... \u001b[?25ldone\n",
      "\u001b[?25h  Created wheel for mr-analytics: filename=mr_analytics-0.1-py3-none-any.whl size=2356 sha256=d799d800fe026f5456b05a8ab2f8d1e92987e4c4c45e4db372ba908de08bb06e\n",
      "  Stored in directory: /private/var/folders/96/9clf6m_11zdbkg_9pp3_d_r80000gn/T/pip-ephem-wheel-cache-l37z9vi8/wheels/da/0a/79/f434a1e92e4aaa89b8fa4f8e63bfdbb063355080aa669ea8cf\n",
      "Successfully built mr-analytics\n",
      "Installing collected packages: mr-analytics\n",
      "  Attempting uninstall: mr-analytics\n",
      "    Found existing installation: mr-analytics 0.1\n",
      "    Uninstalling mr-analytics-0.1:\n",
      "      Successfully uninstalled mr-analytics-0.1\n",
      "Successfully installed mr-analytics-0.1\n",
      "Note: you may need to restart the kernel to use updated packages.\n"
     ]
    }
   ],
   "source": [
    "pip install .\n"
   ]
  },
  {
   "cell_type": "code",
   "execution_count": 10,
   "id": "70feabc1-fb92-4dd3-80d0-5560bd8421eb",
   "metadata": {},
   "outputs": [
    {
     "name": "stdout",
     "output_type": "stream",
     "text": [
      "<class 'pandas.core.frame.DataFrame'>\n",
      "RangeIndex: 5 entries, 0 to 4\n",
      "Data columns (total 4 columns):\n",
      " #   Column      Non-Null Count  Dtype  \n",
      "---  ------      --------------  -----  \n",
      " 0   Name        5 non-null      object \n",
      " 1   Age         5 non-null      float64\n",
      " 2   Salary      5 non-null      float64\n",
      " 3   Department  5 non-null      object \n",
      "dtypes: float64(2), object(2)\n",
      "memory usage: 292.0+ bytes\n",
      "{'shape': (5, 4), 'columns': ['Name', 'Age', 'Salary', 'Department'], 'info': None, 'describe': {'Age': {'count': 5.0, 'mean': 27.0, 'std': 16.80773631397161, 'min': 0.0, '25%': 25.0, '50%': 30.0, '75%': 35.0, 'max': 45.0}, 'Salary': {'count': 5.0, 'mean': 52000.0, 'std': 31144.823004794875, 'min': 0.0, '25%': 50000.0, '50%': 60000.0, '75%': 70000.0, 'max': 80000.0}}}\n"
     ]
    }
   ],
   "source": [
    "import pandas as pd\n",
    "from mr_analytics.mr_analaytics import load_csv, clean_missing_values, summarize_data, filter_data, group_and_aggregate, save_to_csv\n",
    "\n",
    "# Load data\n",
    "df = load_csv('data.csv')\n",
    "\n",
    "# Clean missing values\n",
    "df_cleaned = clean_missing_values(df, strategy='fill', fill_value=0)\n",
    "\n",
    "# Summarize data\n",
    "summary = summarize_data(df_cleaned)\n",
    "print(summary)\n",
    "\n",
    "\n",
    "\n",
    "\n"
   ]
  },
  {
   "cell_type": "code",
   "execution_count": null,
   "id": "3136b654-ecbc-4381-9e53-0c0f6eaa9c03",
   "metadata": {},
   "outputs": [],
   "source": []
  }
 ],
 "metadata": {
  "kernelspec": {
   "display_name": "Python 3 (ipykernel)",
   "language": "python",
   "name": "python3"
  },
  "language_info": {
   "codemirror_mode": {
    "name": "ipython",
    "version": 3
   },
   "file_extension": ".py",
   "mimetype": "text/x-python",
   "name": "python",
   "nbconvert_exporter": "python",
   "pygments_lexer": "ipython3",
   "version": "3.11.7"
  }
 },
 "nbformat": 4,
 "nbformat_minor": 5
}
